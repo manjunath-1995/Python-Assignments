{
 "cells": [
  {
   "cell_type": "code",
   "execution_count": 14,
   "metadata": {},
   "outputs": [
    {
     "name": "stdout",
     "output_type": "stream",
     "text": [
      "enter the first number10\n",
      "enter the second number20\n",
      "\n",
      "select operations from 1,2,3,4 :1\n",
      "30\n"
     ]
    }
   ],
   "source": [
    "num1 = int(input(\"enter the first number\"))\n",
    "num2 = int(input(\"enter the second number\"))\n",
    "print(\"\")\n",
    "def addition(num1,num2):\n",
    "    return num1+num2\n",
    "def subraction(num1,num2):\n",
    "    return num1-num2\n",
    "def multiplication(num1,num2):\n",
    "    return num1*num2\n",
    "def division(num1,num2):\n",
    "    return num1/num2\n",
    "\n",
    "num3 = int(input(\"select operations from 1,2,3,4 :\"))\n",
    "def fun_output(num3):\n",
    "    if(num3 == 1):\n",
    "        add =addition(num1,num2)\n",
    "        print(add)\n",
    "    elif(num3 == 2):\n",
    "        subraction =subraction(num1,num2)\n",
    "        print(subraction)\n",
    "    elif(num3 == 3):\n",
    "        multiplication = multiplication(num1,num2)\n",
    "        print(multiplication)\n",
    "    elif(num3 == 4):\n",
    "        division = division(num1,num2)\n",
    "        print(division)\n",
    "    else:\n",
    "        print(\"invalid output\")          \n",
    "fun_output(num3)  \n",
    "\n",
    "    \n",
    "    \n",
    "    "
   ]
  },
  {
   "cell_type": "code",
   "execution_count": null,
   "metadata": {},
   "outputs": [],
   "source": []
  }
 ],
 "metadata": {
  "kernelspec": {
   "display_name": "Python 3",
   "language": "python",
   "name": "python3"
  },
  "language_info": {
   "codemirror_mode": {
    "name": "ipython",
    "version": 3
   },
   "file_extension": ".py",
   "mimetype": "text/x-python",
   "name": "python",
   "nbconvert_exporter": "python",
   "pygments_lexer": "ipython3",
   "version": "3.7.6"
  }
 },
 "nbformat": 4,
 "nbformat_minor": 4
}
