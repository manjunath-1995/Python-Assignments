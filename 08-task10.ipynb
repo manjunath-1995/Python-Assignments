{
 "cells": [
  {
   "cell_type": "code",
   "execution_count": 5,
   "metadata": {},
   "outputs": [
    {
     "name": "stdout",
     "output_type": "stream",
     "text": [
      "10\n",
      "9\n",
      "8\n",
      "7\n",
      "6\n",
      "5\n",
      "4\n",
      "3\n",
      "2\n",
      "1\n"
     ]
    }
   ],
   "source": [
    "#task 10 \n",
    "#printing numbers from 10 to 1 using while loop\n",
    "count = 10\n",
    "while(count>=1):\n",
    "    print(count)\n",
    "    count = count - 1\n"
   ]
  },
  {
   "cell_type": "code",
   "execution_count": 2,
   "metadata": {},
   "outputs": [
    {
     "name": "stdout",
     "output_type": "stream",
     "text": [
      "Brand\n",
      "model\n",
      "year\n",
      "cost\n"
     ]
    }
   ],
   "source": [
    "# looping over  dictionaries,tuples,sets\n",
    "#looping over dictionaries\n",
    "dict1 = {\n",
    "    \"Brand\":\"Bajaj\",\n",
    "    \"model\":\"Pulsar\",\n",
    "    \"year\":2015,\n",
    "    \"cost\":85000\n",
    "}\n",
    "for item in dict1:\n",
    "    print(item)"
   ]
  },
  {
   "cell_type": "code",
   "execution_count": 6,
   "metadata": {},
   "outputs": [
    {
     "data": {
      "text/plain": [
       "{'child1': {'name': 'john', 'year': '1995'},\n",
       " 'child2': {'name': 'sammy', 'year': '2001'}}"
      ]
     },
     "execution_count": 6,
     "metadata": {},
     "output_type": "execute_result"
    }
   ],
   "source": [
    "child1 = {\n",
    "    \"name\" :\"john\",\n",
    "    \"year\" : \"1995\"\n",
    "}\n",
    "child2 = {\n",
    "    \"name\" : \"sammy\",\n",
    "    \"year\" : \"2001\"\n",
    "}\n",
    "myfamily = {\n",
    "    \"child1\" : child1,\n",
    "    \"child2\" : child2\n",
    "}\n",
    "myfamily\n",
    "#items = list(myfamily.items())\n",
    "#items\n",
    "\n",
    "    "
   ]
  },
  {
   "cell_type": "code",
   "execution_count": 5,
   "metadata": {},
   "outputs": [
    {
     "name": "stdout",
     "output_type": "stream",
     "text": [
      "1\n",
      "2\n",
      "3\n",
      "4.4\n",
      "5.8\n",
      "True\n",
      "False\n",
      "maths\n",
      "python\n"
     ]
    }
   ],
   "source": [
    "#looping over tuples\n",
    "tup1 =(1,2,3,4.4,5.8,True,False,\"maths\",\"python\")\n",
    "for item in tup1:\n",
    "    print(item)"
   ]
  },
  {
   "cell_type": "code",
   "execution_count": 28,
   "metadata": {},
   "outputs": [
    {
     "name": "stdout",
     "output_type": "stream",
     "text": [
      "1\n",
      "2\n",
      "3\n",
      "4\n",
      "python\n",
      "tuples\n",
      "items\n",
      "using\n",
      "forloop\n"
     ]
    }
   ],
   "source": [
    "tup2 = (1,2,3,4)\n",
    "tup3 = (\"python\",\"tuples\",\"items\",\"using\",\"forloop\")\n",
    "tup4 = tup2+tup3\n",
    "tup4\n",
    "for item in tup4:\n",
    "    print(item)"
   ]
  },
  {
   "cell_type": "code",
   "execution_count": 2,
   "metadata": {},
   "outputs": [
    {
     "name": "stdout",
     "output_type": "stream",
     "text": [
      "1\n",
      "2\n",
      "3\n",
      "4\n",
      "True\n",
      "python\n"
     ]
    }
   ],
   "source": [
    "#looping over sets\n",
    "set1 = {1,2,3,4,1,1,4,3,\"True\",\"python\"}\n",
    "for item in set1:\n",
    "    print(item)"
   ]
  },
  {
   "cell_type": "code",
   "execution_count": null,
   "metadata": {},
   "outputs": [],
   "source": []
  }
 ],
 "metadata": {
  "kernelspec": {
   "display_name": "Python 3",
   "language": "python",
   "name": "python3"
  },
  "language_info": {
   "codemirror_mode": {
    "name": "ipython",
    "version": 3
   },
   "file_extension": ".py",
   "mimetype": "text/x-python",
   "name": "python",
   "nbconvert_exporter": "python",
   "pygments_lexer": "ipython3",
   "version": "3.7.6"
  }
 },
 "nbformat": 4,
 "nbformat_minor": 4
}
